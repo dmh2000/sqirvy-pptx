{
 "cells": [
  {
   "cell_type": "code",
   "execution_count": null,
   "id": "8436918e",
   "metadata": {},
   "outputs": [],
   "source": [
    "from embedding import d_model\n",
    "\n",
    "with open(\"chapter1.txt\", \"r\", encoding=\"utf-8\") as f:\n",
    "    text = f.read()\n"
   ]
  },
  {
   "cell_type": "code",
   "execution_count": 17,
   "id": "b5008d03",
   "metadata": {},
   "outputs": [],
   "source": [
    "# tokenize the input text\n",
    "from torchtext.data.utils import get_tokenizer\n",
    "\n",
    "def tokenize(text):\n",
    "    tokenizer = get_tokenizer(\"basic_english\")\n",
    "    tokens = tokenizer(text)\n",
    "    return tokens"
   ]
  },
  {
   "cell_type": "code",
   "execution_count": 18,
   "id": "23ed5399",
   "metadata": {},
   "outputs": [],
   "source": [
    "# create the vocabulary from the tokens\n",
    "from collections import Counter\n",
    "from torchtext.vocab import Vocab\n",
    "\n",
    "def vocabulary_from_tokens(tokens):\n",
    "    counter = Counter(tokens)\n",
    "    vocab = Vocab(counter, min_freq=1)\n",
    "    print(vocab.itos)\n",
    "    return vocab\n"
   ]
  },
  {
   "cell_type": "code",
   "execution_count": 19,
   "id": "46082aa8",
   "metadata": {},
   "outputs": [],
   "source": [
    "# create the embedding layer\n",
    "import torch\n",
    "import torch.nn as nn\n",
    "\n",
    "def get_vectors(text):\n",
    "    tokens = tokenize(text)\n",
    "    vocabulary = vocabulary_from_tokens(tokens)\n",
    "\n",
    "    # initialize vectors with random values\n",
    "    embedding = nn.Embedding(len(vocabulary), embedding_dim=d_model)\n",
    "    input_indices = torch.IntTensor([vocabulary[token] for token in tokens])\n",
    "    vectors = embedding(input_indices)\n",
    "    print(vocabulary)\n",
    "    return vectors, vocabulary\n",
    "\n"
   ]
  },
  {
   "cell_type": "code",
   "execution_count": null,
   "id": "bbe2f35a",
   "metadata": {},
   "outputs": [
    {
     "name": "stdout",
     "output_type": "stream",
     "text": [
      "['<unk>', '<pad>', 'the', ',', 'and', '.', 'a', 'was', 'she', 'her', 'in', 'of', 'to', 'dorothy', 'it', 'at', 'had', 'house', 'that', 'as', 'from', 'toto', 'gray', 'aunt', 'but', 'em', 'he', 'they', 'could', 'not', 'there', 'were', 'wind', 'cyclone', 'door', 'floor', 'henry', 'him', 'one', 'uncle', 'when', 'with', 'came', 'down', 'for', 'great', 'his', 'hole', 'little', 'long', 'looked', 'now', 'room', 'small', 'so', 'up', 'air', 'all', 'around', 'bed', 'by', 'eyes', 'first', 'into', 'on', 'see', 'stood', 'sun', 'trap', 'upon', 'where', 'would', '”', 'after', 'also', 'away', 'be', 'coming', 'dark', 'fell', 'felt', 'girl', 'grass', 'if', 'made', 'miles', 'no', 'quite', 'reached', 'sat', 'side', 'sky', 'still', 'through', 'too', 'what', 'which', 'who', 'wife', '!', 'about', 'again', 'arms', 'badly', 'been', 'black', 'called', 'carried', 'caught', 'cellar', 'corner', 'did', 'dishes', 'dorothy’s', 'ears', 'easily', 'even', 'every', 'four', 'go', 'got', 'hand', 'happen', 'happened', 'hard', 'higher', 'hour', 'ladder', 'last', 'laugh', 'lay', 'like', 'lost', 'loudly', 'middle', 'never', 'north', 'nothing', 'once', 'open', 'or', 'other', 'over', 'passed', 'played', 'pressure', 'ran', 'saw', 'slowly', 'soon', 'south', 'started', 'suddenly', 'swaying', 'taken', 'their', 'then', 'three', 'until', 'very', 'accidents', 'across', 'afterward', 'an', 'another', 'anxiously', 'any', 'anything', 'arose', 'asleep', 'baby', 'baked', 'balloon', 'barking', 'beard', 'became', 'beds', 'before', 'being', 'beside', 'big', 'blades', 'blistered', 'boots', 'bowed', 'bring', 'broad', 'broke', 'build', 'building', 'burned', 'calmly', 'carry', 'case', 'cellar—except', 'center', 'chairs', 'changed', 'cheeks', 'child’s', 'climbed', 'close', 'closed', 'closing', 'color', 'contained', 'cookstove', 'country', 'cows', 'cracks', 'cradle', 'crawled', 'crept', 'crush', 'cupboard', 'danger', 'dashed', 'day', 'deaf', 'dearly', 'direction', 'directions', 'dog', 'doorstep', 'doorway', 'dragged', 'dropped', 'dug', 'dull', 'ear', 'edge', 'either', 'else', 'enough', 'everything', 'everywhere', 'exact', 'fall', 'family', 'far', 'farmer', 'farmer’s', 'fast', 'feather', 'few', 'find', 'flat', 'follow', 'followed', 'footing', 'found', 'fright', 'frightened', 'funny', 'future', 'garret', 'gaunt', 'generally', 'gently', 'get', 'glance', 'going', 'grayer', 'green', 'ground', 'growing', 'hair', 'halfway', 'heard', 'heart', 'here', 'hid', 'horribly', 'horses', 'hours', 'however', 'howled', 'is', 'its', 'joy', 'jumped', 'kansas', 'keeping', 'kept', 'know', 'land', 'laughed', 'laughter', 'led', 'left', 'lips', 'live', 'lived', 'lonely', 'look', 'looking', 'loved', 'low', 'lumber', 'many', 'mass', 'merrily', 'merry', 'met', 'midst', 'mighty', 'more', 'morning', 'near', 'nearly', 'night', 'nor', 'nose', 'orphan', 'out', 'paint', 'painted', 'path', 'pieces', 'playing', 'plowed', 'prairie', 'prairies', 'press', 'pretty', 'rains', 'raised', 'rarely', 'red', 'remained', 'resolved', 'riding', 'ripples', 'rocked', 'roof', 'rose', 'rough', 'running', 'rusty', 'same', 'saved', 'scream', 'screamed', 'seen', 'sharp', 'sheds', 'shook', 'shriek', 'shrieked', 'silky', 'smiled', 'sober', 'solemn', 'sparkle', 'spite', 'spoke', 'startled', 'stern', 'sticking', 'stock', 'stopped', 'storm', 'strange', 'strong', 'surroundings', 'sweep', 'table', 'terrible', 'than', 'them', 'thin', 'thing', 'this', 'those', 'thought', 'threw', 'till', 'time', 'times', 'tipped', 'today', 'told', 'top', 'tops', 'toward', 'tree', 'turned', 'twinkled', 'two', 'under', 'usual', 'voice', 'wagon', 'wail', 'wailing', 'wait', 'waited', 'walls', 'washed', 'washing', 'waves', 'way', 'wee', 'whenever', 'whirled', 'whirls', 'whirlwinds', 'whistling', 'winds', 'wonder', 'wondered', 'work', 'worked', 'worrying', 'you', 'young', '“i’ll', '“quick', '“run', '“there’s', '\\ufeffthe']\n",
      "<torchtext.vocab.Vocab object at 0x7f59a9b9f890>\n",
      "tensor([[ 0.7727,  0.5456,  2.1719, -0.3435, -0.8535, -1.1504,  1.7876, -0.3128,\n",
      "         -1.3546,  0.6106,  0.0681,  0.9999,  0.3906,  0.1509,  1.1857,  0.9993]],\n",
      "       grad_fn=<SliceBackward0>)\n",
      "the\n"
     ]
    }
   ],
   "source": [
    "vectors, vocabulary = get_vectors(text)\n"
   ]
  }
 ],
 "metadata": {
  "kernelspec": {
   "display_name": "llm",
   "language": "python",
   "name": "python3"
  },
  "language_info": {
   "codemirror_mode": {
    "name": "ipython",
    "version": 3
   },
   "file_extension": ".py",
   "mimetype": "text/x-python",
   "name": "python",
   "nbconvert_exporter": "python",
   "pygments_lexer": "ipython3",
   "version": "3.13.7"
  }
 },
 "nbformat": 4,
 "nbformat_minor": 5
}
